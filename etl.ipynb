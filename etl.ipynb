{
 "cells": [
  {
   "cell_type": "markdown",
   "metadata": {},
   "source": [
    "# ETL\n",
    "\n",
    "Steps to create data warehouse for analytic process of Sparkify song plays data.\n",
    "- STEP 0: Activate S3 service and check data on buckets.\n",
    "- STEP 1: Extract data from S3 to Redshift as Staging tables.\n",
    "- STEP 2: Transform and Load data into Analytics tables.\n",
    "- STEP 3: Explore analytic queries."
   ]
  },
  {
   "cell_type": "markdown",
   "metadata": {},
   "source": [
    "<img src=\"images/etl_step.png\" width=\"90%\"/>"
   ]
  },
  {
   "cell_type": "code",
   "execution_count": null,
   "metadata": {},
   "outputs": [],
   "source": [
    "import pandas as pd\n",
    "import boto3\n",
    "import json\n",
    "import configparser\n",
    "import pandas as pd\n",
    "from humanize import naturalsize\n",
    "config = configparser.ConfigParser()\n",
    "config.read_file(open('dwh.cfg'))\n",
    "%load_ext sql"
   ]
  },
  {
   "cell_type": "markdown",
   "metadata": {},
   "source": [
    "# STEP 0: Activate S3 service and check data on buckets"
   ]
  },
  {
   "cell_type": "markdown",
   "metadata": {},
   "source": [
    "## 0.1 Activate S3"
   ]
  },
  {
   "cell_type": "code",
   "execution_count": null,
   "metadata": {},
   "outputs": [],
   "source": [
    "KEY                = config.get('AWS','KEY')\n",
    "SECRET             = config.get('AWS','SECRET')\n",
    "BUCKET_NAME        = config.get(\"S3\", \"BUCKET_NAME\")"
   ]
  },
  {
   "cell_type": "code",
   "execution_count": null,
   "metadata": {},
   "outputs": [],
   "source": [
    "s3 = boto3.resource('s3',\n",
    "                       region_name=\"us-west-2\",\n",
    "                       aws_access_key_id=KEY,\n",
    "                       aws_secret_access_key=SECRET\n",
    "                   )"
   ]
  },
  {
   "cell_type": "markdown",
   "metadata": {},
   "source": [
    "## 0.2 Check data on Bucket "
   ]
  },
  {
   "cell_type": "code",
   "execution_count": null,
   "metadata": {},
   "outputs": [],
   "source": [
    "def bucketSummary(bucket_name, prefix):\n",
    "    #Put s3 obj into list then find length and sum of size in that list\n",
    "    obj_list = list(s3.Bucket(bucket_name).objects.filter(Prefix=prefix))\n",
    "    total_files = len(obj_list)\n",
    "    total_size = naturalsize(sum(obj.size for obj in obj_list))\n",
    "    print(f\"Total_files: {total_files}\\nTotal size: {total_size}\")\n",
    "\n",
    "    #select one file path to show in dataframe (Pip install s3fs)\n",
    "    sample_file_path = f\"s3://{bucket_name}/{obj_list[1].key}\"\n",
    "    df = pd.read_json(sample_file_path,  lines=True)\n",
    "    print(\"Sample file path: \",sample_file_path )\n",
    "    display(df.head(2))"
   ]
  },
  {
   "cell_type": "code",
   "execution_count": null,
   "metadata": {},
   "outputs": [],
   "source": [
    "bucketSummary(BUCKET_NAME,prefix='log_data')"
   ]
  },
  {
   "cell_type": "code",
   "execution_count": null,
   "metadata": {},
   "outputs": [],
   "source": [
    "bucketSummary(BUCKET_NAME,prefix='song_data')"
   ]
  },
  {
   "cell_type": "markdown",
   "metadata": {},
   "source": [
    "#  \n",
    "# STEP 1: Import data from S3 to Redshift as Staging tables"
   ]
  },
  {
   "cell_type": "markdown",
   "metadata": {},
   "source": [
    "## 1.1 Connect to Database"
   ]
  },
  {
   "cell_type": "code",
   "execution_count": null,
   "metadata": {},
   "outputs": [],
   "source": [
    "DB_NAME            = config.get(\"CLUSTER\",\"DB_NAME\")\n",
    "DB_USER            = config.get(\"CLUSTER\",\"DB_USER\")\n",
    "DB_PASSWORD        = config.get(\"CLUSTER\",\"DB_PASSWORD\")\n",
    "DB_PORT            = config.get(\"CLUSTER\",\"DB_PORT\")\n",
    "HOST               = config.get(\"CLUSTER\",\"HOST\")"
   ]
  },
  {
   "cell_type": "code",
   "execution_count": null,
   "metadata": {},
   "outputs": [],
   "source": [
    "conn_string=\"postgresql://{}:{}@{}:{}/{}\".format(DB_USER, DB_PASSWORD, HOST, DB_PORT,DB_NAME)\n",
    "print(conn_string)\n",
    "%sql $conn_string"
   ]
  },
  {
   "cell_type": "code",
   "execution_count": null,
   "metadata": {},
   "outputs": [],
   "source": [
    "%%sql \n",
    "DROP TABLE IF EXISTS \"staging_events\";\n",
    "DROP TABLE IF EXISTS \"staging_songs\";"
   ]
  },
  {
   "cell_type": "markdown",
   "metadata": {},
   "source": [
    "## 1.2 Create staging tables"
   ]
  },
  {
   "cell_type": "code",
   "execution_count": null,
   "metadata": {},
   "outputs": [],
   "source": [
    "%%sql \n",
    "DROP TABLE IF EXISTS \"staging_events\";\n",
    "DROP TABLE IF EXISTS \"staging_songs\";\n",
    "\n",
    "CREATE TABLE \"staging_events\" (\n",
    "                event_id      INT IDENTITY(0,1)    NOT NULL,\n",
    "                artist        VARCHAR              NULL,\n",
    "                auth          VARCHAR              NULL,\n",
    "                firstName     VARCHAR              NULL,\n",
    "                gender        CHAR (1)             NULL,\n",
    "                itemInSession VARCHAR              NULL,\n",
    "                lastName      VARCHAR              NULL,\n",
    "                length        NUMERIC              NULL,\n",
    "                level         VARCHAR              NULL,\n",
    "                location      VARCHAR              NULL,\n",
    "                method        VARCHAR              NULL,\n",
    "                page          VARCHAR              NULL,\n",
    "                registration  NUMERIC              NULL,\n",
    "                sessionId     INTEGER              NOT NULL SORTKEY DISTKEY,\n",
    "                song          VARCHAR              NULL,\n",
    "                status        INTEGER              NULL,\n",
    "                ts            NUMERIC              NOT NULL,\n",
    "                userAgent     VARCHAR              NULL,\n",
    "                userId        INTEGER              NULL\n",
    "\n",
    ");\n",
    "\n",
    "CREATE TABLE IF NOT EXISTS \"staging_songs\" (\n",
    "                num_songs           INTEGER         NULL,\n",
    "                artist_id           VARCHAR         NOT NULL SORTKEY DISTKEY,\n",
    "                artist_latitude     VARCHAR         NULL,\n",
    "                artist_longitude    VARCHAR         NULL,\n",
    "                artist_location     VARCHAR         NULL,\n",
    "                artist_name         VARCHAR         NULL,\n",
    "                song_id             VARCHAR         NOT NULL,\n",
    "                title               VARCHAR         NULL,\n",
    "                duration            DECIMAL         NULL,\n",
    "                year                INTEGER         NULL\n",
    ");"
   ]
  },
  {
   "cell_type": "code",
   "execution_count": null,
   "metadata": {},
   "outputs": [],
   "source": []
  },
  {
   "cell_type": "markdown",
   "metadata": {},
   "source": [
    "## 1.3 Copy data from S3 to staging table"
   ]
  },
  {
   "cell_type": "code",
   "execution_count": null,
   "metadata": {},
   "outputs": [],
   "source": [
    "IAM_ROLE_ARN=config.get(\"IAM_ROLE\",\"IAM_ROLE_ARN\")\n",
    "LOG_DATA    =config.get(\"S3\",\"LOG_DATA\")\n",
    "SONG_DATA   =config.get(\"S3\",\"SONG_DATA\")\n",
    "LOG_JSONPATH=config.get(\"S3\",\"LOG_JSONPATH\")"
   ]
  },
  {
   "cell_type": "markdown",
   "metadata": {},
   "source": [
    "#### Import log events data"
   ]
  },
  {
   "cell_type": "code",
   "execution_count": null,
   "metadata": {},
   "outputs": [],
   "source": [
    "%%time\n",
    "\n",
    "qry = \"\"\"\n",
    "    COPY staging_events FROM {}\n",
    "    CREDENTIALS 'aws_iam_role={}' \n",
    "    FORMAT as json {}\n",
    "    region 'us-west-2';\n",
    "\"\"\".format(LOG_DATA, IAM_ROLE_ARN, LOG_JSONPATH)\n",
    "\n",
    "%sql $qry"
   ]
  },
  {
   "cell_type": "markdown",
   "metadata": {},
   "source": [
    "#### Import song data"
   ]
  },
  {
   "cell_type": "code",
   "execution_count": null,
   "metadata": {},
   "outputs": [],
   "source": [
    "%%time\n",
    "\n",
    "qry = \"\"\"\n",
    "    COPY staging_songs FROM {}\n",
    "    credentials 'aws_iam_role={}'\n",
    "    format as json 'auto'\n",
    "    region 'us-west-2';\n",
    "\"\"\".format(SONG_DATA, IAM_ROLE_ARN)\n",
    "\n",
    "%sql $qry"
   ]
  },
  {
   "cell_type": "markdown",
   "metadata": {},
   "source": [
    "## 1.4 Check imported data"
   ]
  },
  {
   "cell_type": "markdown",
   "metadata": {},
   "source": [
    "#### Check data on log event staging table"
   ]
  },
  {
   "cell_type": "code",
   "execution_count": null,
   "metadata": {},
   "outputs": [],
   "source": [
    "%%sql \n",
    "SELECT COUNT(*)\n",
    "FROM \"staging_events\";"
   ]
  },
  {
   "cell_type": "code",
   "execution_count": null,
   "metadata": {},
   "outputs": [],
   "source": [
    "%%sql \n",
    "SELECT *\n",
    "FROM \"staging_events\"\n",
    "ORDER BY \"event_id\"\n",
    "LIMIT 2"
   ]
  },
  {
   "cell_type": "markdown",
   "metadata": {},
   "source": [
    "#### Check data on songs staging table"
   ]
  },
  {
   "cell_type": "code",
   "execution_count": null,
   "metadata": {},
   "outputs": [],
   "source": [
    "%%sql \n",
    "SELECT COUNT(*)\n",
    "FROM \"staging_songs\";"
   ]
  },
  {
   "cell_type": "code",
   "execution_count": null,
   "metadata": {},
   "outputs": [],
   "source": [
    "%%sql \n",
    "SELECT *\n",
    "FROM \"staging_songs\"\n",
    "LIMIT 2"
   ]
  },
  {
   "cell_type": "markdown",
   "metadata": {},
   "source": [
    "#  "
   ]
  },
  {
   "cell_type": "markdown",
   "metadata": {},
   "source": [
    "# STEP 2. Transform and Load data into Analytics tables."
   ]
  },
  {
   "cell_type": "markdown",
   "metadata": {},
   "source": [
    "## 2.1 Create Analytics tables"
   ]
  },
  {
   "cell_type": "code",
   "execution_count": null,
   "metadata": {},
   "outputs": [],
   "source": [
    "%%sql \n",
    "\n",
    "DROP TABLE IF EXISTS \"songplays\";\n",
    "DROP TABLE IF EXISTS \"users\";\n",
    "DROP TABLE IF EXISTS \"songs\";\n",
    "DROP TABLE IF EXISTS \"artists\";\n",
    "DROP TABLE IF EXISTS \"time\";\n",
    "\n",
    "CREATE TABLE IF NOT EXISTS \"songplays\" (\n",
    "                songplay_id INTEGER IDENTITY(0,1)   NOT NULL SORTKEY,\n",
    "                start_time  TIMESTAMP               NOT NULL,\n",
    "                user_id     VARCHAR(50)             NOT NULL DISTKEY,\n",
    "                level       VARCHAR(10)             NOT NULL,\n",
    "                song_id     VARCHAR(40)             NOT NULL,\n",
    "                artist_id   VARCHAR(50)             NOT NULL,\n",
    "                session_id  VARCHAR(50)             NOT NULL,\n",
    "                location    VARCHAR(100)            NULL,\n",
    "                user_agent  VARCHAR(255)            NULL\n",
    "                );\n",
    "\n",
    "CREATE TABLE IF NOT EXISTS \"users\" (\n",
    "                user_id     INTEGER                 NOT NULL SORTKEY,\n",
    "                first_name  VARCHAR(50)             NULL,\n",
    "                last_name   VARCHAR(80)             NULL,\n",
    "                gender      VARCHAR(10)             NULL,\n",
    "                level       VARCHAR(10)             NULL\n",
    "                ) diststyle all;\n",
    "\n",
    "CREATE TABLE IF NOT EXISTS \"songs\" (\n",
    "                song_id     VARCHAR(50)             NOT NULL SORTKEY,\n",
    "                title       VARCHAR(500)            NOT NULL,\n",
    "                artist_id   VARCHAR(50)             NOT NULL,\n",
    "                year        INTEGER                 NOT NULL,\n",
    "                duration    DECIMAL(9)              NOT NULL\n",
    "                );\n",
    "\n",
    "CREATE TABLE IF NOT EXISTS \"artists\" (\n",
    "                artist_id   VARCHAR(50)             NOT NULL SORTKEY,\n",
    "                name        VARCHAR(500)            NULL,\n",
    "                location    VARCHAR(500)            NULL,\n",
    "                latitude    DECIMAL(9)              NULL,\n",
    "                longitude   DECIMAL(9)              NULL\n",
    "                ) diststyle all;\n",
    "\n",
    "\n",
    "CREATE TABLE IF NOT EXISTS \"time\" (\n",
    "                start_time  TIMESTAMP               NOT NULL SORTKEY,\n",
    "                hour        SMALLINT                NULL,\n",
    "                day         SMALLINT                NULL,\n",
    "                week        SMALLINT                NULL,\n",
    "                month       SMALLINT                NULL,\n",
    "                year        SMALLINT                NULL,\n",
    "                weekday     SMALLINT                NULL\n",
    "                ) diststyle all;"
   ]
  },
  {
   "cell_type": "markdown",
   "metadata": {},
   "source": [
    "## 2.2 Insert data"
   ]
  },
  {
   "cell_type": "code",
   "execution_count": null,
   "metadata": {},
   "outputs": [],
   "source": [
    "%%sql \n",
    "\n",
    "INSERT INTO \"songplays\" (start_time,user_id,level,song_id,artist_id,session_id,location,user_agent)\n",
    "SELECT  DISTINCT TIMESTAMP 'epoch' + se.ts/1000* INTERVAL '1 second'   AS start_time,\n",
    "        se.userId                   AS user_id,\n",
    "        se.level                    AS level,\n",
    "        ss.song_id                  AS song_id,\n",
    "        ss.artist_id                AS artist_id,\n",
    "        se.sessionId                AS session_id,\n",
    "        se.location                 AS location,\n",
    "        se.userAgent                AS user_agent\n",
    "FROM \"staging_events\" AS se\n",
    "JOIN \"staging_songs\" AS ss ON (se.artist = ss.artist_name)\n",
    "WHERE se.page = 'NextSong';\n",
    "\n",
    "    \n",
    "INSERT INTO \"users\" (user_id,first_name,last_name,gender,level)\n",
    "SELECT  DISTINCT se.userId          AS user_id,\n",
    "        se.firstName                AS first_name,\n",
    "        se.lastName                 AS last_name,\n",
    "        se.gender                   AS gender,\n",
    "        se.level                    AS level\n",
    "FROM \"staging_events\" AS se\n",
    "WHERE se.page = 'NextSong';\n",
    "\n",
    "\n",
    "INSERT INTO \"songs\" (song_id,title,artist_id,year,duration)\n",
    "SELECT  DISTINCT ss.song_id         AS song_id,\n",
    "        ss.title                    AS title,\n",
    "        ss.artist_id                AS artist_id,\n",
    "        ss.year                     AS year,\n",
    "        ss.duration                 AS duration\n",
    "FROM \"staging_songs\" AS ss;\n",
    "\n",
    "\n",
    "INSERT INTO \"artists\" (artist_id,name,location,latitude,longitude)\n",
    "SELECT  DISTINCT ss.artist_id       AS artist_id,\n",
    "        ss.artist_name              AS name,\n",
    "        ss.artist_location          AS location,\n",
    "        ss.artist_latitude          AS latitude,\n",
    "        ss.artist_longitude         AS longitude\n",
    "FROM \"staging_songs\" AS ss;\n",
    "\n",
    "\n",
    "INSERT INTO \"time\" (start_time,hour,day,week,month,year,weekday)\n",
    "SELECT  DISTINCT TIMESTAMP 'epoch' + se.ts/1000* INTERVAL '1 second' AS start_time,\n",
    "        EXTRACT(hour FROM start_time)    AS hour,\n",
    "        EXTRACT(day FROM start_time)     AS day,\n",
    "        EXTRACT(week FROM start_time)    AS week,\n",
    "        EXTRACT(month FROM start_time)   AS month,\n",
    "        EXTRACT(year FROM start_time)    AS year,\n",
    "        EXTRACT(weekday FROM start_time) AS weekday\n",
    "FROM  \"staging_events\" AS se\n",
    "WHERE se.page = 'NextSong';"
   ]
  },
  {
   "cell_type": "markdown",
   "metadata": {},
   "source": [
    "## 2.3 Check inserted data"
   ]
  },
  {
   "cell_type": "code",
   "execution_count": null,
   "metadata": {},
   "outputs": [],
   "source": [
    "%%sql \n",
    "SELECT * FROM \"songplays\" LIMIT 1;"
   ]
  },
  {
   "cell_type": "code",
   "execution_count": null,
   "metadata": {},
   "outputs": [],
   "source": [
    "%%sql \n",
    "SELECT * FROM \"users\" LIMIT 1;"
   ]
  },
  {
   "cell_type": "code",
   "execution_count": null,
   "metadata": {},
   "outputs": [],
   "source": [
    "%%sql \n",
    "SELECT * FROM \"songs\" LIMIT 1;"
   ]
  },
  {
   "cell_type": "code",
   "execution_count": null,
   "metadata": {},
   "outputs": [],
   "source": [
    "%%sql \n",
    "SELECT * FROM \"artists\" LIMIT 1;"
   ]
  },
  {
   "cell_type": "code",
   "execution_count": null,
   "metadata": {},
   "outputs": [],
   "source": [
    "%%sql \n",
    "SELECT * FROM \"time\" LIMIT 1;"
   ]
  },
  {
   "cell_type": "markdown",
   "metadata": {},
   "source": [
    "# STEP 3. Analytic queries."
   ]
  },
  {
   "cell_type": "markdown",
   "metadata": {},
   "source": [
    "#### Top 10 Songs by number of plays."
   ]
  },
  {
   "cell_type": "code",
   "execution_count": null,
   "metadata": {},
   "outputs": [],
   "source": [
    "%%sql \n",
    "\n",
    "SELECT s.title as top_song, a.name as artist, COUNT(sp.songplay_id) AS play_times\n",
    "FROM \"songplays\" AS sp\n",
    "JOIN \"songs\" AS s on sp.song_id = s.song_id\n",
    "JOIN \"artists\" As a on sp.artist_id = a.artist_id\n",
    "GROUP BY s.title, a.name\n",
    "ORDER BY play_times DESC\n",
    "LIMIT 10"
   ]
  },
  {
   "cell_type": "markdown",
   "metadata": {},
   "source": [
    "#### Top 10 Artists by number of song plays."
   ]
  },
  {
   "cell_type": "code",
   "execution_count": null,
   "metadata": {},
   "outputs": [],
   "source": [
    "%%sql \n",
    "\n",
    "SELECT a.name AS top_artist, COUNT(sp.songplay_id) AS song_plays\n",
    "FROM \"songplays\" AS sp\n",
    "JOIN \"artists\" As a on sp.artist_id = a.artist_id\n",
    "GROUP BY a.name\n",
    "ORDER BY song_plays DESC\n",
    "LIMIT 10"
   ]
  }
 ],
 "metadata": {
  "kernelspec": {
   "display_name": "Python 3",
   "language": "python",
   "name": "python3"
  },
  "language_info": {
   "codemirror_mode": {
    "name": "ipython",
    "version": 3
   },
   "file_extension": ".py",
   "mimetype": "text/x-python",
   "name": "python",
   "nbconvert_exporter": "python",
   "pygments_lexer": "ipython3",
   "version": "3.7.7"
  }
 },
 "nbformat": 4,
 "nbformat_minor": 4
}
